{
 "cells": [
  {
   "cell_type": "code",
   "execution_count": 12,
   "metadata": {
    "collapsed": true,
    "ExecuteTime": {
     "end_time": "2025-02-28T12:23:20.114223900Z",
     "start_time": "2025-02-28T12:23:20.104695700Z"
    }
   },
   "outputs": [],
   "source": [
    "from pathlib import Path\n",
    "\n",
    "import pandas as pd\n",
    "import numpy as np\n",
    "from fedot.api.main import Pipeline, Fedot\n",
    "from fedot.api.builder import FedotBuilder\n",
    "from fedot.core.data.data import InputData\n",
    "from fedot.core.data.data_split import train_test_data_setup"
   ]
  },
  {
   "cell_type": "code",
   "execution_count": 3,
   "outputs": [],
   "source": [
    "data_root = '../data/boston-housing'"
   ],
   "metadata": {
    "collapsed": false,
    "ExecuteTime": {
     "end_time": "2025-02-28T12:15:53.118582700Z",
     "start_time": "2025-02-28T12:15:53.116694900Z"
    }
   }
  },
  {
   "cell_type": "markdown",
   "source": [
    "## 1. Загрузка данных"
   ],
   "metadata": {
    "collapsed": false
   }
  },
  {
   "cell_type": "code",
   "execution_count": 4,
   "outputs": [],
   "source": [
    "data = InputData.from_csv(\n",
    "    Path(data_root, 'train.csv'),\n",
    "    task='regression',\n",
    "    index_col='ID',\n",
    "    target_columns='medv'\n",
    ")\n",
    "train, test = train_test_data_setup(data, shuffle=True)"
   ],
   "metadata": {
    "collapsed": false,
    "ExecuteTime": {
     "end_time": "2025-02-28T10:07:35.379050200Z",
     "start_time": "2025-02-28T10:07:35.348981900Z"
    }
   }
  },
  {
   "cell_type": "code",
   "execution_count": 15,
   "outputs": [
    {
     "data": {
      "text/plain": "        crim    zn  indus  chas    nox     rm   age     dis  rad    tax  \\\n1    0.00632  18.0   2.31   0.0  0.538  6.575  65.2  4.0900  1.0  296.0   \n2    0.02731   0.0   7.07   0.0  0.469  6.421  78.9  4.9671  2.0  242.0   \n4    0.03237   0.0   2.18   0.0  0.458  6.998  45.8  6.0622  3.0  222.0   \n5    0.06905   0.0   2.18   0.0  0.458  7.147  54.2  6.0622  3.0  222.0   \n7    0.08829  12.5   7.87   0.0  0.524  6.012  66.6  5.5605  5.0  311.0   \n..       ...   ...    ...   ...    ...    ...   ...     ...  ...    ...   \n500  0.17783   0.0   9.69   0.0  0.585  5.569  73.5  2.3999  6.0  391.0   \n502  0.06263   0.0  11.93   0.0  0.573  6.593  69.1  2.4786  1.0  273.0   \n503  0.04527   0.0  11.93   0.0  0.573  6.120  76.7  2.2875  1.0  273.0   \n504  0.06076   0.0  11.93   0.0  0.573  6.976  91.0  2.1675  1.0  273.0   \n506  0.04741   0.0  11.93   0.0  0.573  6.030  80.8  2.5050  1.0  273.0   \n\n     ptratio   black  lstat  medv  \n1       15.3  396.90   4.98  24.0  \n2       17.8  396.90   9.14  21.6  \n4       18.7  394.63   2.94  33.4  \n5       18.7  396.90   5.33  36.2  \n7       15.2  395.60  12.43  22.9  \n..       ...     ...    ...   ...  \n500     19.2  395.77  15.10  17.5  \n502     21.0  391.99   9.67  22.4  \n503     21.0  396.90   9.08  20.6  \n504     21.0  396.90   5.64  23.9  \n506     21.0  396.90   7.88  11.9  \n\n[333 rows x 14 columns]",
      "text/html": "<div>\n<style scoped>\n    .dataframe tbody tr th:only-of-type {\n        vertical-align: middle;\n    }\n\n    .dataframe tbody tr th {\n        vertical-align: top;\n    }\n\n    .dataframe thead th {\n        text-align: right;\n    }\n</style>\n<table border=\"1\" class=\"dataframe\">\n  <thead>\n    <tr style=\"text-align: right;\">\n      <th></th>\n      <th>crim</th>\n      <th>zn</th>\n      <th>indus</th>\n      <th>chas</th>\n      <th>nox</th>\n      <th>rm</th>\n      <th>age</th>\n      <th>dis</th>\n      <th>rad</th>\n      <th>tax</th>\n      <th>ptratio</th>\n      <th>black</th>\n      <th>lstat</th>\n      <th>medv</th>\n    </tr>\n  </thead>\n  <tbody>\n    <tr>\n      <th>1</th>\n      <td>0.00632</td>\n      <td>18.0</td>\n      <td>2.31</td>\n      <td>0.0</td>\n      <td>0.538</td>\n      <td>6.575</td>\n      <td>65.2</td>\n      <td>4.0900</td>\n      <td>1.0</td>\n      <td>296.0</td>\n      <td>15.3</td>\n      <td>396.90</td>\n      <td>4.98</td>\n      <td>24.0</td>\n    </tr>\n    <tr>\n      <th>2</th>\n      <td>0.02731</td>\n      <td>0.0</td>\n      <td>7.07</td>\n      <td>0.0</td>\n      <td>0.469</td>\n      <td>6.421</td>\n      <td>78.9</td>\n      <td>4.9671</td>\n      <td>2.0</td>\n      <td>242.0</td>\n      <td>17.8</td>\n      <td>396.90</td>\n      <td>9.14</td>\n      <td>21.6</td>\n    </tr>\n    <tr>\n      <th>4</th>\n      <td>0.03237</td>\n      <td>0.0</td>\n      <td>2.18</td>\n      <td>0.0</td>\n      <td>0.458</td>\n      <td>6.998</td>\n      <td>45.8</td>\n      <td>6.0622</td>\n      <td>3.0</td>\n      <td>222.0</td>\n      <td>18.7</td>\n      <td>394.63</td>\n      <td>2.94</td>\n      <td>33.4</td>\n    </tr>\n    <tr>\n      <th>5</th>\n      <td>0.06905</td>\n      <td>0.0</td>\n      <td>2.18</td>\n      <td>0.0</td>\n      <td>0.458</td>\n      <td>7.147</td>\n      <td>54.2</td>\n      <td>6.0622</td>\n      <td>3.0</td>\n      <td>222.0</td>\n      <td>18.7</td>\n      <td>396.90</td>\n      <td>5.33</td>\n      <td>36.2</td>\n    </tr>\n    <tr>\n      <th>7</th>\n      <td>0.08829</td>\n      <td>12.5</td>\n      <td>7.87</td>\n      <td>0.0</td>\n      <td>0.524</td>\n      <td>6.012</td>\n      <td>66.6</td>\n      <td>5.5605</td>\n      <td>5.0</td>\n      <td>311.0</td>\n      <td>15.2</td>\n      <td>395.60</td>\n      <td>12.43</td>\n      <td>22.9</td>\n    </tr>\n    <tr>\n      <th>...</th>\n      <td>...</td>\n      <td>...</td>\n      <td>...</td>\n      <td>...</td>\n      <td>...</td>\n      <td>...</td>\n      <td>...</td>\n      <td>...</td>\n      <td>...</td>\n      <td>...</td>\n      <td>...</td>\n      <td>...</td>\n      <td>...</td>\n      <td>...</td>\n    </tr>\n    <tr>\n      <th>500</th>\n      <td>0.17783</td>\n      <td>0.0</td>\n      <td>9.69</td>\n      <td>0.0</td>\n      <td>0.585</td>\n      <td>5.569</td>\n      <td>73.5</td>\n      <td>2.3999</td>\n      <td>6.0</td>\n      <td>391.0</td>\n      <td>19.2</td>\n      <td>395.77</td>\n      <td>15.10</td>\n      <td>17.5</td>\n    </tr>\n    <tr>\n      <th>502</th>\n      <td>0.06263</td>\n      <td>0.0</td>\n      <td>11.93</td>\n      <td>0.0</td>\n      <td>0.573</td>\n      <td>6.593</td>\n      <td>69.1</td>\n      <td>2.4786</td>\n      <td>1.0</td>\n      <td>273.0</td>\n      <td>21.0</td>\n      <td>391.99</td>\n      <td>9.67</td>\n      <td>22.4</td>\n    </tr>\n    <tr>\n      <th>503</th>\n      <td>0.04527</td>\n      <td>0.0</td>\n      <td>11.93</td>\n      <td>0.0</td>\n      <td>0.573</td>\n      <td>6.120</td>\n      <td>76.7</td>\n      <td>2.2875</td>\n      <td>1.0</td>\n      <td>273.0</td>\n      <td>21.0</td>\n      <td>396.90</td>\n      <td>9.08</td>\n      <td>20.6</td>\n    </tr>\n    <tr>\n      <th>504</th>\n      <td>0.06076</td>\n      <td>0.0</td>\n      <td>11.93</td>\n      <td>0.0</td>\n      <td>0.573</td>\n      <td>6.976</td>\n      <td>91.0</td>\n      <td>2.1675</td>\n      <td>1.0</td>\n      <td>273.0</td>\n      <td>21.0</td>\n      <td>396.90</td>\n      <td>5.64</td>\n      <td>23.9</td>\n    </tr>\n    <tr>\n      <th>506</th>\n      <td>0.04741</td>\n      <td>0.0</td>\n      <td>11.93</td>\n      <td>0.0</td>\n      <td>0.573</td>\n      <td>6.030</td>\n      <td>80.8</td>\n      <td>2.5050</td>\n      <td>1.0</td>\n      <td>273.0</td>\n      <td>21.0</td>\n      <td>396.90</td>\n      <td>7.88</td>\n      <td>11.9</td>\n    </tr>\n  </tbody>\n</table>\n<p>333 rows × 14 columns</p>\n</div>"
     },
     "execution_count": 15,
     "metadata": {},
     "output_type": "execute_result"
    }
   ],
   "source": [
    "pd.DataFrame(np.concatenate([data.features, data.target], axis=1), index=data.idx, columns=[*data.features_names, 'medv'])"
   ],
   "metadata": {
    "collapsed": false,
    "ExecuteTime": {
     "end_time": "2025-02-28T10:14:19.128043500Z",
     "start_time": "2025-02-28T10:14:19.111028500Z"
    }
   }
  },
  {
   "cell_type": "markdown",
   "source": [
    "## 2. Создание и обучение модели"
   ],
   "metadata": {
    "collapsed": false
   }
  },
  {
   "cell_type": "code",
   "execution_count": 47,
   "outputs": [
    {
     "name": "stdout",
     "output_type": "stream",
     "text": [
      "2025-02-28 04:32:25,692 - ApiDataProcessor - Preprocessing data\n",
      "2025-02-28 04:32:25,694 - ApiDataProcessor - Train Data (Original) Memory Usage: 27.14 KB Data Shapes: ((266, 13), (266, 1))\n",
      "2025-02-28 04:32:25,703 - ApiDataProcessor - Train Data (Processed) Memory Usage: 43.77 KB Data Shape: ((266, 21), (266, 1))\n",
      "2025-02-28 04:32:25,705 - ApiDataProcessor - Data preprocessing runtime = 0:00:00.014127\n",
      "2025-02-28 04:32:26,440 - ApiComposer - Initial pipeline was fitted in 2.2 sec.\n",
      "2025-02-28 04:32:26,448 - ApiComposer - AutoML configured. Parameters tuning: True. Time limit: 0.01 min. Set of candidate models: ['adareg', 'dtreg', 'knnreg', 'lasso', 'linear', 'normalization', 'pca', 'ransac_lin_reg', 'rfr', 'ridge', 'scaling', 'sgdr'].\n",
      "2025-02-28 04:32:26,479 - ApiComposer - Timeout is too small for composing and is skipped because fit_time is 2.178708 sec.\n",
      "2025-02-28 04:32:26,487 - ApiComposer - Time for pipeline composing was 0:00:00.\n",
      "The remaining 0 seconds are not enough to tune the hyperparameters.\n",
      "2025-02-28 04:32:26,488 - ApiComposer - Composed pipeline returned without tuning.\n",
      "2025-02-28 04:32:26,663 - ApiComposer - Model generation finished\n",
      "2025-02-28 04:32:26,665 - FEDOT logger - Already fitted initial pipeline is used\n",
      "2025-02-28 04:32:26,667 - FEDOT logger - Final pipeline: {'depth': 2, 'length': 2, 'nodes': [rfr, scaling]}\n",
      "rfr - {'n_jobs': 16}\n",
      "scaling - {}\n"
     ]
    }
   ],
   "source": [
    "model = (FedotBuilder(problem='regression')\n",
    "         .setup_composition(timeout=0.01, preset='fast_train', with_tuning=True)\n",
    "         .setup_pipeline_evaluation(metric=\"mse\", cv_folds=3)\n",
    "         .setup_data_preprocessing(use_auto_preprocessing=True)\n",
    "         .build())\n",
    "pipeline = model.fit(features=train)"
   ],
   "metadata": {
    "collapsed": false,
    "ExecuteTime": {
     "end_time": "2025-02-28T01:32:26.672057800Z",
     "start_time": "2025-02-28T01:32:25.579620500Z"
    }
   }
  },
  {
   "cell_type": "code",
   "execution_count": 48,
   "outputs": [
    {
     "data": {
      "text/plain": "{'depth': 2, 'length': 2, 'nodes': [rfr, scaling]}"
     },
     "execution_count": 48,
     "metadata": {},
     "output_type": "execute_result"
    }
   ],
   "source": [
    "pipeline.graph_description"
   ],
   "metadata": {
    "collapsed": false,
    "ExecuteTime": {
     "end_time": "2025-02-28T01:32:29.593001200Z",
     "start_time": "2025-02-28T01:32:29.588492300Z"
    }
   }
  },
  {
   "cell_type": "markdown",
   "source": [
    "## 3. Подсчёт метрик"
   ],
   "metadata": {
    "collapsed": false
   }
  },
  {
   "cell_type": "code",
   "execution_count": 49,
   "outputs": [
    {
     "name": "stdout",
     "output_type": "stream",
     "text": [
      "2025-02-28 04:32:32,590 - ApiDataProcessor - Preprocessing data\n",
      "2025-02-28 04:32:32,591 - ApiDataProcessor - Test Data (Original) Memory Usage: 56.0 B Data Shapes: ((67, 13), (67, 1))\n",
      "2025-02-28 04:32:32,597 - ApiDataProcessor - Test Data (Processed) Memory Usage: 56.0 B Data Shape: ((67, 21), (67, 1))\n",
      "2025-02-28 04:32:32,599 - ApiDataProcessor - Data preprocessing runtime = 0:00:00.008510\n"
     ]
    },
    {
     "data": {
      "text/plain": "{'mse': 7.932, 'mape': 0.113}"
     },
     "execution_count": 49,
     "metadata": {},
     "output_type": "execute_result"
    }
   ],
   "source": [
    "model.predict(test)\n",
    "model.get_metrics()"
   ],
   "metadata": {
    "collapsed": false,
    "ExecuteTime": {
     "end_time": "2025-02-28T01:32:32.619734700Z",
     "start_time": "2025-02-28T01:32:32.582961200Z"
    }
   }
  },
  {
   "cell_type": "markdown",
   "source": [
    "## 4. Сохранение и загрузка модели"
   ],
   "metadata": {
    "collapsed": false
   }
  },
  {
   "cell_type": "code",
   "execution_count": 50,
   "outputs": [
    {
     "data": {
      "text/plain": "('{\\n    \"total_pipeline_operations\": [\\n        \"scaling\",\\n        \"rfr\"\\n    ],\\n    \"depth\": 2,\\n    \"nodes\": [\\n        {\\n            \"operation_id\": 1,\\n            \"operation_type\": \"scaling\",\\n            \"operation_name\": \"ScalingImplementation\",\\n            \"custom_params\": {},\\n            \"params\": {},\\n            \"nodes_from\": [],\\n            \"fitted_operation_path\": [\\n                \"fitted_operations\",\\n                \"operation_1.pkl\"\\n            ],\\n            \"rating\": null\\n        },\\n        {\\n            \"operation_id\": 0,\\n            \"operation_type\": \"rfr\",\\n            \"operation_name\": \"RandomForestRegressor\",\\n            \"custom_params\": {\\n                \"n_jobs\": 16\\n            },\\n            \"params\": {\\n                \"n_jobs\": 16\\n            },\\n            \"nodes_from\": [\\n                1\\n            ],\\n            \"fitted_operation_path\": [\\n                \"fitted_operations\",\\n                \"operation_0.pkl\"\\n            ],\\n            \"rating\": null\\n        }\\n    ],\\n    \"preprocessing\": [\\n        \"preprocessing\",\\n        \"data_preprocessor.pkl\"\\n    ],\\n    \"descriptive_id\": \"(/n_scaling;)/n_rfr_{\\'n_jobs\\': 16}\"\\n}',\n {'operation_1': 'G:\\\\Code\\\\ITMO\\\\Generative AI\\\\DevOps\\\\lab 1 - ML pipeline\\\\notebooks\\\\runs\\\\boston-housing\\\\fitted_operations\\\\operation_1.pkl',\n  'operation_0': 'G:\\\\Code\\\\ITMO\\\\Generative AI\\\\DevOps\\\\lab 1 - ML pipeline\\\\notebooks\\\\runs\\\\boston-housing\\\\fitted_operations\\\\operation_0.pkl',\n  'preprocessing': ['G:\\\\Code\\\\ITMO\\\\Generative AI\\\\DevOps\\\\lab 1 - ML pipeline\\\\notebooks\\\\runs\\\\boston-housing\\\\preprocessing',\n   'data_preprocessor.pkl']})"
     },
     "execution_count": 50,
     "metadata": {},
     "output_type": "execute_result"
    }
   ],
   "source": [
    "pipeline.save('runs/boston-housing', create_subdir=False)"
   ],
   "metadata": {
    "collapsed": false,
    "ExecuteTime": {
     "end_time": "2025-02-28T01:32:36.989947400Z",
     "start_time": "2025-02-28T01:32:36.962340200Z"
    }
   }
  },
  {
   "cell_type": "code",
   "execution_count": null,
   "outputs": [],
   "source": [
    "FedotBuilder"
   ],
   "metadata": {
    "collapsed": false
   }
  },
  {
   "cell_type": "code",
   "execution_count": 5,
   "outputs": [
    {
     "name": "stdout",
     "output_type": "stream",
     "text": [
      "2025-02-28 15:20:12,426 - Topological features operation requires extra dependencies for time series forecasting, which are not installed. It can infuence the performance. Please install it by 'pip install fedot[extra]'\n"
     ]
    }
   ],
   "source": [
    "load_pipeline = Pipeline().load('runs/boston-housing')"
   ],
   "metadata": {
    "collapsed": false,
    "ExecuteTime": {
     "end_time": "2025-02-28T12:20:13.527125200Z",
     "start_time": "2025-02-28T12:20:04.412143800Z"
    }
   }
  },
  {
   "cell_type": "code",
   "execution_count": 7,
   "outputs": [],
   "source": [
    "test_data = pd.read_csv(Path(data_root, 'test.csv'))"
   ],
   "metadata": {
    "collapsed": false,
    "ExecuteTime": {
     "end_time": "2025-02-28T12:21:03.305643500Z",
     "start_time": "2025-02-28T12:21:03.292099900Z"
    }
   }
  },
  {
   "cell_type": "code",
   "execution_count": 19,
   "outputs": [],
   "source": [
    "load_model = Fedot('regression')\n",
    "load_model.load('runs/boston-housing')"
   ],
   "metadata": {
    "collapsed": false,
    "ExecuteTime": {
     "end_time": "2025-02-28T12:25:08.090889500Z",
     "start_time": "2025-02-28T12:25:08.051300700Z"
    }
   }
  },
  {
   "cell_type": "code",
   "execution_count": 21,
   "outputs": [
    {
     "data": {
      "text/plain": "array([18.892, 18.507, 16.899, 16.425, 15.817, 13.765, 13.711, 13.639,\n       13.639, 13.697, 13.697, 13.697, 13.693, 13.693, 13.693, 13.693,\n       13.693, 13.732, 13.693, 13.86 , 13.872, 13.872, 13.731, 13.711,\n       13.711, 13.711, 13.872, 13.711, 13.872, 13.711, 13.711, 13.711,\n       13.711, 13.711, 13.711, 13.711, 13.711, 13.711, 13.711, 13.711,\n       13.711, 13.711, 13.711, 13.711, 13.711, 13.711, 13.711, 13.711,\n       13.711, 10.034, 10.034, 13.711, 10.034, 13.711, 13.711, 13.711,\n       13.872, 13.892, 13.872, 13.872, 13.872, 13.872, 13.711, 10.034,\n       10.034, 10.034, 13.711, 13.711, 10.034, 10.034, 10.034, 13.711,\n       13.711, 13.711, 13.872, 13.872, 13.872, 13.872, 13.872, 13.872,\n       13.872, 13.872, 13.872, 13.878, 13.878, 13.878, 13.878, 10.233,\n       13.878, 13.872, 10.233, 10.233, 13.872, 13.878, 13.872, 13.872,\n       13.872, 13.711, 13.711, 13.872, 13.872, 13.872, 13.872, 13.711,\n       13.711, 13.711, 13.711, 13.711, 13.711, 13.711, 13.711, 13.872,\n       13.872, 13.711, 13.711, 13.711, 13.711, 13.872, 13.872, 13.872,\n       13.856, 13.856, 13.711, 10.034, 10.034, 10.034, 13.711, 13.711,\n       13.711, 13.711, 13.711, 13.711, 13.711, 13.711, 13.711, 13.711,\n       13.711, 13.711, 13.711, 13.711, 13.711, 13.711, 13.711, 35.   ,\n       13.711, 13.713, 14.906, 13.711, 13.711, 13.711, 35.067, 13.916,\n       13.711, 13.711, 13.695, 13.711, 13.711, 13.711, 35.067, 34.453,\n       22.62 , 13.711, 13.711, 13.711, 13.711, 13.711, 13.711, 13.711,\n       13.711, 13.711, 13.711, 13.711, 13.711])"
     },
     "execution_count": 21,
     "metadata": {},
     "output_type": "execute_result"
    }
   ],
   "source": [
    "load_model.predict(test_data)"
   ],
   "metadata": {
    "collapsed": false,
    "ExecuteTime": {
     "end_time": "2025-02-28T12:25:34.042990500Z",
     "start_time": "2025-02-28T12:25:34.012343900Z"
    }
   }
  },
  {
   "cell_type": "code",
   "execution_count": 11,
   "outputs": [
    {
     "ename": "TypeError",
     "evalue": "'numpy.ndarray' object is not callable",
     "output_type": "error",
     "traceback": [
      "\u001B[1;31m---------------------------------------------------------------------------\u001B[0m",
      "\u001B[1;31mTypeError\u001B[0m                                 Traceback (most recent call last)",
      "Cell \u001B[1;32mIn[11], line 1\u001B[0m\n\u001B[1;32m----> 1\u001B[0m load_pipeline\u001B[38;5;241m.\u001B[39mpredict(test_data)\n",
      "File \u001B[1;32mE:\\Anaconda\\envs\\ITMO\\Lib\\site-packages\\fedot\\core\\pipelines\\pipeline.py:282\u001B[0m, in \u001B[0;36mPipeline.predict\u001B[1;34m(self, input_data, output_mode)\u001B[0m\n\u001B[0;32m    279\u001B[0m     copied_input_data \u001B[38;5;241m=\u001B[39m deepcopy(input_data)\n\u001B[0;32m    280\u001B[0m \u001B[38;5;28;01melse\u001B[39;00m:\n\u001B[0;32m    281\u001B[0m     \u001B[38;5;66;03m# Make copy of the input data to avoid performing inplace operations\u001B[39;00m\n\u001B[1;32m--> 282\u001B[0m     copied_input_data \u001B[38;5;241m=\u001B[39m \u001B[38;5;28mself\u001B[39m\u001B[38;5;241m.\u001B[39m_preprocess(input_data, is_fit_stage\u001B[38;5;241m=\u001B[39m\u001B[38;5;28;01mFalse\u001B[39;00m)\n\u001B[0;32m    284\u001B[0m copied_input_data \u001B[38;5;241m=\u001B[39m \u001B[38;5;28mself\u001B[39m\u001B[38;5;241m.\u001B[39m_assign_data_to_nodes(copied_input_data)\n\u001B[0;32m    285\u001B[0m result \u001B[38;5;241m=\u001B[39m \u001B[38;5;28mself\u001B[39m\u001B[38;5;241m.\u001B[39mroot_node\u001B[38;5;241m.\u001B[39mpredict(input_data\u001B[38;5;241m=\u001B[39mcopied_input_data, output_mode\u001B[38;5;241m=\u001B[39moutput_mode)\n",
      "File \u001B[1;32mE:\\Anaconda\\envs\\ITMO\\Lib\\site-packages\\fedot\\core\\pipelines\\pipeline.py:145\u001B[0m, in \u001B[0;36mPipeline._preprocess\u001B[1;34m(self, input_data, is_fit_stage)\u001B[0m\n\u001B[0;32m    142\u001B[0m     copied_input_data \u001B[38;5;241m=\u001B[39m \u001B[38;5;28mself\u001B[39m\u001B[38;5;241m.\u001B[39mpreprocessor\u001B[38;5;241m.\u001B[39mconvert_indexes_for_fit(pipeline\u001B[38;5;241m=\u001B[39m\u001B[38;5;28mself\u001B[39m,\n\u001B[0;32m    143\u001B[0m                                                                   data\u001B[38;5;241m=\u001B[39mcopied_input_data)\n\u001B[0;32m    144\u001B[0m \u001B[38;5;28;01melse\u001B[39;00m:\n\u001B[1;32m--> 145\u001B[0m     copied_input_data \u001B[38;5;241m=\u001B[39m \u001B[38;5;28mself\u001B[39m\u001B[38;5;241m.\u001B[39mpreprocessor\u001B[38;5;241m.\u001B[39mobligatory_prepare_for_predict(copied_input_data)\n\u001B[0;32m    146\u001B[0m     \u001B[38;5;66;03m# Make additional preprocessing if it is needed\u001B[39;00m\n\u001B[0;32m    147\u001B[0m     copied_input_data \u001B[38;5;241m=\u001B[39m \u001B[38;5;28mself\u001B[39m\u001B[38;5;241m.\u001B[39mpreprocessor\u001B[38;5;241m.\u001B[39moptional_prepare_for_predict(pipeline\u001B[38;5;241m=\u001B[39m\u001B[38;5;28mself\u001B[39m,\n\u001B[0;32m    148\u001B[0m                                                                        data\u001B[38;5;241m=\u001B[39mcopied_input_data)\n",
      "File \u001B[1;32mE:\\Anaconda\\envs\\ITMO\\Lib\\site-packages\\fedot\\preprocessing\\preprocessing.py:131\u001B[0m, in \u001B[0;36mDataPreprocessor.obligatory_prepare_for_predict\u001B[1;34m(self, data)\u001B[0m\n\u001B[0;32m    127\u001B[0m     \u001B[38;5;28;01mfor\u001B[39;00m data_source_name, values \u001B[38;5;129;01min\u001B[39;00m data\u001B[38;5;241m.\u001B[39mitems():\n\u001B[0;32m    128\u001B[0m         data[data_source_name] \u001B[38;5;241m=\u001B[39m \u001B[38;5;28mself\u001B[39m\u001B[38;5;241m.\u001B[39m_prepare_obligatory_unimodal(values, source_name\u001B[38;5;241m=\u001B[39mdata_source_name,\n\u001B[0;32m    129\u001B[0m                                                                    is_fit_stage\u001B[38;5;241m=\u001B[39m\u001B[38;5;28;01mFalse\u001B[39;00m)\n\u001B[1;32m--> 131\u001B[0m BasePreprocessor\u001B[38;5;241m.\u001B[39mmark_as_preprocessed(data)\n\u001B[0;32m    132\u001B[0m \u001B[38;5;28;01mreturn\u001B[39;00m data\n",
      "File \u001B[1;32mE:\\Anaconda\\envs\\ITMO\\Lib\\site-packages\\fedot\\preprocessing\\base_preprocessing.py:205\u001B[0m, in \u001B[0;36mBasePreprocessor.mark_as_preprocessed\u001B[1;34m(data, is_obligatory)\u001B[0m\n\u001B[0;32m    195\u001B[0m \u001B[38;5;129m@staticmethod\u001B[39m\n\u001B[0;32m    196\u001B[0m \u001B[38;5;28;01mdef\u001B[39;00m\u001B[38;5;250m \u001B[39m\u001B[38;5;21mmark_as_preprocessed\u001B[39m(data: Union[InputData, MultiModalData], \u001B[38;5;241m*\u001B[39m, is_obligatory: \u001B[38;5;28mbool\u001B[39m \u001B[38;5;241m=\u001B[39m \u001B[38;5;28;01mTrue\u001B[39;00m):\n\u001B[0;32m    197\u001B[0m \u001B[38;5;250m    \u001B[39m\u001B[38;5;124;03m\"\"\"\u001B[39;00m\n\u001B[0;32m    198\u001B[0m \u001B[38;5;124;03m    Marks provided ``data`` as preprocessed with ``type`` method,\u001B[39;00m\n\u001B[0;32m    199\u001B[0m \u001B[38;5;124;03m        so it won't be preprocessed in further steps of an algorithm.\u001B[39;00m\n\u001B[1;32m   (...)\u001B[0m\n\u001B[0;32m    203\u001B[0m \u001B[38;5;124;03m        is_obligatory: was the data obligatorily or optionally preprocessed\u001B[39;00m\n\u001B[0;32m    204\u001B[0m \u001B[38;5;124;03m    \"\"\"\u001B[39;00m\n\u001B[1;32m--> 205\u001B[0m     values \u001B[38;5;241m=\u001B[39m [data] \u001B[38;5;28;01mif\u001B[39;00m \u001B[38;5;28misinstance\u001B[39m(data, InputData) \u001B[38;5;28;01melse\u001B[39;00m data\u001B[38;5;241m.\u001B[39mvalues()\n\u001B[0;32m    206\u001B[0m     \u001B[38;5;28;01mfor\u001B[39;00m input_data \u001B[38;5;129;01min\u001B[39;00m values:\n\u001B[0;32m    207\u001B[0m         \u001B[38;5;28;01mif\u001B[39;00m is_obligatory:\n",
      "\u001B[1;31mTypeError\u001B[0m: 'numpy.ndarray' object is not callable"
     ]
    }
   ],
   "source": [
    "load_pipeline.predict(test_data)"
   ],
   "metadata": {
    "collapsed": false,
    "ExecuteTime": {
     "end_time": "2025-02-28T12:21:33.153948200Z",
     "start_time": "2025-02-28T12:21:33.119571500Z"
    }
   }
  },
  {
   "cell_type": "code",
   "execution_count": 4,
   "outputs": [
    {
     "data": {
      "text/plain": "InputData(idx=array([  0,   1,   2,   3,   4,   5,   6,   7,   8,   9,  10,  11,  12,\n        13,  14,  15,  16,  17,  18,  19,  20,  21,  22,  23,  24,  25,\n        26,  27,  28,  29,  30,  31,  32,  33,  34,  35,  36,  37,  38,\n        39,  40,  41,  42,  43,  44,  45,  46,  47,  48,  49,  50,  51,\n        52,  53,  54,  55,  56,  57,  58,  59,  60,  61,  62,  63,  64,\n        65,  66,  67,  68,  69,  70,  71,  72,  73,  74,  75,  76,  77,\n        78,  79,  80,  81,  82,  83,  84,  85,  86,  87,  88,  89,  90,\n        91,  92,  93,  94,  95,  96,  97,  98,  99, 100, 101, 102, 103,\n       104, 105, 106, 107, 108, 109, 110, 111, 112, 113, 114, 115, 116,\n       117, 118, 119, 120, 121, 122, 123, 124, 125, 126, 127, 128, 129,\n       130, 131, 132, 133, 134, 135, 136, 137, 138, 139, 140, 141, 142,\n       143, 144, 145, 146, 147, 148, 149, 150, 151, 152, 153, 154, 155,\n       156, 157, 158, 159, 160, 161, 162, 163, 164, 165, 166, 167, 168,\n       169, 170, 171, 172, 173, 174, 175, 176, 177, 178, 179, 180, 181,\n       182, 183, 184, 185, 186, 187, 188, 189, 190, 191, 192, 193, 194,\n       195, 196, 197, 198, 199, 200, 201, 202, 203, 204, 205, 206, 207,\n       208, 209, 210, 211, 212, 213, 214, 215, 216, 217, 218, 219, 220,\n       221, 222, 223, 224, 225, 226, 227, 228, 229, 230, 231, 232, 233,\n       234, 235, 236, 237, 238, 239, 240, 241, 242, 243, 244, 245, 246,\n       247, 248, 249, 250, 251, 252, 253, 254, 255, 256, 257, 258, 259,\n       260, 261, 262, 263, 264, 265, 266, 267, 268, 269, 270, 271, 272,\n       273, 274, 275, 276, 277, 278, 279, 280, 281, 282, 283, 284, 285,\n       286, 287, 288, 289, 290, 291, 292, 293, 294, 295, 296, 297, 298,\n       299, 300, 301, 302, 303, 304, 305, 306, 307, 308, 309, 310, 311,\n       312, 313, 314, 315, 316, 317, 318, 319, 320, 321, 322, 323, 324,\n       325, 326, 327, 328, 329, 330, 331, 332], dtype=int64), task=Task(task_type=<TaskTypesEnum.classification: 'classification'>, task_params=None), data_type=<DataTypesEnum.table: 'feature_table'>, features=array([[1.0000e+00, 6.3200e-03, 1.8000e+01, ..., 3.9690e+02, 4.9800e+00,\n        2.4000e+01],\n       [2.0000e+00, 2.7310e-02, 0.0000e+00, ..., 3.9690e+02, 9.1400e+00,\n        2.1600e+01],\n       [4.0000e+00, 3.2370e-02, 0.0000e+00, ..., 3.9463e+02, 2.9400e+00,\n        3.3400e+01],\n       ...,\n       [5.0300e+02, 4.5270e-02, 0.0000e+00, ..., 3.9690e+02, 9.0800e+00,\n        2.0600e+01],\n       [5.0400e+02, 6.0760e-02, 0.0000e+00, ..., 3.9690e+02, 5.6400e+00,\n        2.3900e+01],\n       [5.0600e+02, 4.7410e-02, 0.0000e+00, ..., 3.9690e+02, 7.8800e+00,\n        1.1900e+01]]), categorical_features=None, categorical_idx=None, numerical_idx=[0, 1, 2, 3, 4, 5, 6, 7, 8, 9, 10, 11, 12, 13, 14], encoded_idx=None, features_names=array(['ID', 'crim', 'zn', 'indus', 'chas', 'nox', 'rm', 'age', 'dis',\n       'rad', 'tax', 'ptratio', 'black', 'lstat', 'medv'], dtype=object), target=None, supplementary_data=SupplementaryData(is_main_target=True, data_flow_length=0, features_mask=None, previous_operations=None, obligatorily_preprocessed=False, optionally_preprocessed=False, non_int_idx=None, col_type_ids=None, is_auto_preprocessed=False))"
     },
     "execution_count": 4,
     "metadata": {},
     "output_type": "execute_result"
    }
   ],
   "source": [
    "test_data = pd.read_csv(Path(data_root, 'test.csv'))\n",
    "InputData.from_dataframe(\n",
    "    test_data,\n",
    "    pd.DataFrame()\n",
    ")"
   ],
   "metadata": {
    "collapsed": false,
    "ExecuteTime": {
     "end_time": "2025-02-28T12:15:53.144151Z",
     "start_time": "2025-02-28T12:15:53.119583300Z"
    }
   }
  },
  {
   "cell_type": "code",
   "execution_count": null,
   "outputs": [],
   "source": [],
   "metadata": {
    "collapsed": false
   }
  }
 ],
 "metadata": {
  "kernelspec": {
   "display_name": "Python 3",
   "language": "python",
   "name": "python3"
  },
  "language_info": {
   "codemirror_mode": {
    "name": "ipython",
    "version": 2
   },
   "file_extension": ".py",
   "mimetype": "text/x-python",
   "name": "python",
   "nbconvert_exporter": "python",
   "pygments_lexer": "ipython2",
   "version": "2.7.6"
  }
 },
 "nbformat": 4,
 "nbformat_minor": 0
}
